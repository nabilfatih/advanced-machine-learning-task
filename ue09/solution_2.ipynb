{
 "cells": [
  {
   "cell_type": "markdown",
   "metadata": {},
   "source": [
    "### Exercise 2\n",
    "\n",
    "Implement an `AdaBoost` class with a `fit` and `predict` method for binary classification problems. The `AdaBoost` class should accept any classifier from sklearn as a base learner that accepts `sample_weights` as an argument in its `fit` method.\n",
    "\n",
    "Test your implementation against sklearn's AdaBoostClassifier using 'SAMME' as boosting algorithm on a dataset of your choice. "
   ]
  },
  {
   "cell_type": "markdown",
   "metadata": {},
   "source": [
    "---\n",
    "### Imports"
   ]
  },
  {
   "cell_type": "code",
   "execution_count": 1,
   "metadata": {},
   "outputs": [],
   "source": [
    "import numpy as np\n",
    "from sklearn.base import clone\n",
    "from sklearn.tree import DecisionTreeClassifier\n",
    "from sklearn.ensemble import AdaBoostClassifier\n",
    "from sklearn.datasets import make_moons\n",
    "from sklearn.model_selection import train_test_split\n",
    "from sklearn.metrics import accuracy_score"
   ]
  },
  {
   "cell_type": "markdown",
   "metadata": {},
   "source": [
    "---\n",
    "### AdaBoost Class"
   ]
  },
  {
   "cell_type": "code",
   "execution_count": 2,
   "metadata": {},
   "outputs": [],
   "source": [
    "class AdaBoost:\n",
    "\n",
    "    def __init__(self, base_learner, n_estimators=10):\n",
    "        self.T = n_estimators\n",
    "        self.base_clf = base_learner\n",
    "        self.estimators = None\n",
    "    \n",
    "    def fit(self, X, y):\n",
    "        n_samples = X.shape[0]\n",
    "        w = np.ones(n_samples)\n",
    "        self.estimators = []\n",
    "\n",
    "        for _ in range(self.T):\n",
    "            w = w / np.sum(w)                   \n",
    "\n",
    "            h = clone(self.base_clf)  \n",
    "            h.fit(X, y, sample_weight=w)        \n",
    "\n",
    "            y_hat = h.predict(X)   \n",
    "            e = 1 - accuracy_score(y, y_hat, sample_weight=w)  \n",
    "            a = 0.5 * np.log((1 - e) / e)               \n",
    "\n",
    "            m = 1*(y == y_hat) - 1*(y != y_hat)  \n",
    "            w *= np.exp(-a * m)\n",
    "                    \n",
    "            self.estimators.append((a, h))  \n",
    "\n",
    "        return self.estimators\n",
    "    \n",
    "    def predict(self, X):\n",
    "        pred = np.zeros(X.shape[0])\n",
    "        for a, h in self.estimators:\n",
    "            pred += a * h.predict(X)\n",
    "        return np.sign(pred)\n",
    "    \n",
    "    def score(self, X, y):\n",
    "        y_hat = self.predict(X)  \n",
    "        return accuracy_score(y, y_hat)"
   ]
  },
  {
   "cell_type": "markdown",
   "metadata": {},
   "source": [
    "---\n",
    "### Half-Moons Dataset"
   ]
  },
  {
   "cell_type": "code",
   "execution_count": 6,
   "metadata": {},
   "outputs": [],
   "source": [
    "X, y = make_moons(n_samples=500, noise=0.25, random_state=10)\n",
    "y[y==0] = - 1 "
   ]
  },
  {
   "cell_type": "markdown",
   "metadata": {},
   "source": [
    "---\n",
    "### Test"
   ]
  },
  {
   "cell_type": "code",
   "execution_count": 7,
   "metadata": {},
   "outputs": [],
   "source": [
    "def test(clf, X, y):\n",
    "    X_train, X_test, y_train, y_test = train_test_split(X, y, test_size=0.5, \n",
    "                                                        random_state=10)\n",
    "    clf.fit(X_train, y_train)\n",
    "\n",
    "    train_error = 1. - clf.score(X_train, y_train)\n",
    "    test_error = 1. - clf.score(X_test, y_test)\n",
    "\n",
    "    print(f\"train error = {100*train_error:.1f}%\")\n",
    "    print(f\"test error  = {100*test_error:.1f}%\")"
   ]
  },
  {
   "cell_type": "code",
   "execution_count": 8,
   "metadata": {},
   "outputs": [
    {
     "name": "stdout",
     "output_type": "stream",
     "text": [
      "My AdaBoost\n",
      "train error = 7.2%\n",
      "test error  = 12.0%\n",
      "\n",
      "Sklearn's AdaBoost\n",
      "train error = 7.2%\n",
      "test error  = 12.0%\n"
     ]
    }
   ],
   "source": [
    "n_estimators = 20\n",
    "\n",
    "print(\"My AdaBoost\")\n",
    "clf1 = AdaBoost(DecisionTreeClassifier(max_depth=1), n_estimators=n_estimators)\n",
    "test(clf1, X, y)\n",
    "\n",
    "print()\n",
    "print(\"Sklearn's AdaBoost\")\n",
    "clf2 = AdaBoostClassifier(n_estimators=n_estimators, algorithm='SAMME')\n",
    "test(clf2, X, y)"
   ]
  },
  {
   "cell_type": "code",
   "execution_count": null,
   "metadata": {},
   "outputs": [],
   "source": []
  }
 ],
 "metadata": {
  "kernelspec": {
   "display_name": "ml",
   "language": "python",
   "name": "python3"
  },
  "language_info": {
   "codemirror_mode": {
    "name": "ipython",
    "version": 3
   },
   "file_extension": ".py",
   "mimetype": "text/x-python",
   "name": "python",
   "nbconvert_exporter": "python",
   "pygments_lexer": "ipython3",
   "version": "3.11.5"
  }
 },
 "nbformat": 4,
 "nbformat_minor": 2
}
