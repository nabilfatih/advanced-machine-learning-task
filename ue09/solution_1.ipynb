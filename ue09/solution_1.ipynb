{
 "cells": [
  {
   "cell_type": "markdown",
   "metadata": {},
   "source": [
    "### Exercise 1\n",
    "\n",
    "Prove Condorcet's Jury Theorem using Chebyshev's inequality. "
   ]
  },
  {
   "cell_type": "markdown",
   "metadata": {},
   "source": [
    "---\n",
    "**Theorem.** Suppose $x_1, \\ldots, x_n \\in \\{\\pm 1\\}$ are independent votes and each voter $x_i$ decides correctly with probability $\\mathbb{P(x_i = 1)}>0.5$. Then the probability of the jury to reach a correct decision by majority vote tends to $1$ as $n\\to \\infty$.\n",
    "\n",
    "**Note:** $+1$ refers to a correct and $-1$ to an incorrect vote. "
   ]
  },
  {
   "cell_type": "markdown",
   "metadata": {},
   "source": [
    "---\n",
    "**Proof:** \n",
    "\n",
    "Chebyshev’s inequality states: For any $\\epsilon > 0$, \n",
    "\n",
    "$$\n",
    "\\mathbb{P}(|x-\\mathbb{E}[x]| \\geq \\epsilon) \\leq \\frac{\\mathbb{V}[x]}{\\epsilon^2}.\n",
    "$$\n",
    "\n",
    "Thus, \n",
    "\n",
    "$$\n",
    "\\mathbb{P}(|x-\\mathbb{E}[x]|<\\epsilon)>1-\\frac{\\mathbb{V}[x]}{\\epsilon^2}.\n",
    "$$\n",
    "\n",
    "Let $x_1, \\ldots, x_n \\in \\{ \\pm 1\\}$ be i.i.d. random variables with probability $\\mathbb{P}(x_i=1) > 0.5$. Suppose that $p\\in\\: ]0.5, 1]$ such that $0.5 < p \\leq \\mathbb{P}(x_i=1)$ for all $i$. Then \n",
    "\n",
    "$$\n",
    "\\begin{align*}\n",
    "\\mathbb{E}[x_i] &= (+1)p + (-1)(1-p) = 2p-1\\\\[0.5ex]\n",
    "\\mathbb{V}[x_i] &= \\mathbb{E}[x_i^2] - \\mathbb{E}[x_i]^2 = 4p(1-p).^{(1)}\n",
    "\\end{align*}\n",
    "$$\n",
    "\n",
    "We define the majority vote as the random variable $z=x_1+\\cdots+x_n$. The majority vote is correct if $z>0$. Thus, we need to show that $\\mathbb{P}(z>0)$ tends to 1 as $n \\rightarrow \\infty$. We have \n",
    "\n",
    "$$\n",
    "\\begin{align*}\n",
    "\\mathbb{E}[z] &= n(2p-1)\\\\[0.5ex]\n",
    "\\mathbb{V}[z] &= 4np(1-p),\n",
    "\\end{align*}\n",
    "$$\n",
    "\n",
    "where the first identity follows because $\\mathbb{E}$ is a linear operator and the second identity follows because the random variables $x_i$ are independent. \n",
    " \n",
    "Chebyshev's inequality holds for any $\\epsilon > 0$. Thus, it holds for $\\epsilon = \\mathbb{E}[z]$, but only if $\\mathbb{E}[z] > 0$. The latter follows from our assumption that $p > 0.5$. Thus,\n",
    "\n",
    "$$\n",
    "\\mathbb{P}(|z-\\mathbb{E}[z]|<\\mathbb{E}[z])>1-\\frac{\\mathbb{V}[z]}{\\mathbb{E}[z]^2} =1-\\frac{4np(1-p)}{(n(2p-1))^2} =1-\\frac{\\alpha}{n},\n",
    "$$\n",
    "\n",
    "where $\\alpha=4p(1-p)/(2p-1)^2$. Observe that \n",
    "\n",
    "$$\n",
    "\\mathbb{P}(|z-\\mathbb{E}[z]|<\\mathbb{E}[z])=\\mathbb{P}(z>0\\, \\cap \\, z<2\\mathbb{E}[z])\\leq \\mathbb{P}(z>0)\\leq 1.\n",
    "$$\n",
    "\n",
    "Thus, we have \n",
    "\n",
    "$$\n",
    "1-\\frac{\\alpha}{n}<\\mathbb{P}(z>0)\\leq 1.\n",
    "$$\n",
    "\n",
    "Thus, $\\lim_{n\\to\\infty} \\mathbb{P}(z>0)=1$."
   ]
  },
  {
   "cell_type": "markdown",
   "metadata": {},
   "source": [
    "---\n",
    "**$^{(1)}$** We show $\\mathbb{V}[x_i] = 4p(p-1)$: From $x_i \\in\\{\\pm 1\\}$ follows $x_i^2 = 1$. Then, we have $\\mathbb{E}[x_i^2] = (+1)p + (+1)(1-p) = 1$. Substituting $\\mathbb{E}[x_i^2] = 1$ into the formula of the variance gives\n",
    "\n",
    "$$\n",
    "\\mathbb{V}[x_i] = 1 - (2p-1)^2 = 1 - (4p^2 - 4p + 1) = 4p - 4p^2= 4p(1-p).\n",
    "$$"
   ]
  },
  {
   "cell_type": "markdown",
   "metadata": {},
   "source": []
  }
 ],
 "metadata": {
  "kernelspec": {
   "display_name": "ml",
   "language": "python",
   "name": "python3"
  },
  "language_info": {
   "name": "python",
   "version": "3.11.5"
  }
 },
 "nbformat": 4,
 "nbformat_minor": 2
}
