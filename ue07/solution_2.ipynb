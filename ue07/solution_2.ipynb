{
 "cells": [
  {
   "cell_type": "markdown",
   "metadata": {},
   "source": [
    "### Exercise 2"
   ]
  },
  {
   "cell_type": "markdown",
   "metadata": {},
   "source": [
    "The hypothosis class of inhomogeneous halfspaces (linear classifiers) in $\\mathbb{R}^d$ is defined by \n",
    "\n",
    "$$\n",
    "\\mathcal{H}=\\{f:\\mathbb{R}^d\\to \\{\\pm 1\\} \\;:\\; \\exists\\, w\\in\\mathbb{R}^d, \\exists\\,b\\in \\mathbb{R}\\; \\text{\\ s.t.\\ }\\; f(x)=\\text{sgn}\\big(\\langle w, x\\rangle + b\\big)\\}.\n",
    "$$\n",
    "\n",
    "Show that the VC dimension of $\\mathcal{H}$ is $d+1$."
   ]
  },
  {
   "cell_type": "markdown",
   "metadata": {},
   "source": [
    "---\n",
    "**Proof:**\n",
    "\n",
    "We reduce the problem to homogeneous halfspaces in $\\mathbb{R}^{d+1}$ using augmented vectors. \n",
    "\n",
    "Let $\\mathcal{X} = \\{1\\} \\times \\mathbb{R}^d \\subseteq \\mathbb{R}^{d+1}$. We can equivalently express $\\mathcal{H}$ as \n",
    "\n",
    "$$\n",
    "\\mathcal{H}'=\\{f:\\mathcal{X}\\to \\{\\pm 1\\} \\;:\\; \\exists\\, w\\in\\mathbb{R}^{d+1} \\text{\\ s.t.\\ } f(x)=\\langle w, x\\rangle\\}.\n",
    "$$\n",
    "\n",
    "The hypothesis class $\\mathcal{H}'$ is a subset of all homogeneous halfspaces in $\\mathbb{R}^{d+1}$. From exercise 1 follows that the VC dimension of $\\mathcal{H}'$ is at most $d+1$. \n",
    "\n",
    "It remains to show that $\\mathcal{H}'$ can indeed shatter $d+1$ points. Consider the set $\\mathcal{X}_{d+1} = \\{x_1,\\ldots, x_{d+1}\\}$ with elements\n",
    "\n",
    "+ $x_{0} = (1, 0, \\ldots, 0)$.\n",
    "\n",
    "+ $x_i = (1, e_i)$, where $e_i\\in \\mathbb{R}^d$ is the i-th standard basis vector \n",
    "\n",
    "for all $i\\in\\{1, \\ldots, d\\}$. Arrange the $d+1$ points as rows in a matrix\n",
    "\n",
    "$$\n",
    "X = \\begin{pmatrix}\n",
    "x_0 \\\\\n",
    "x_1\\\\\n",
    "x_2\\\\\n",
    "\\vdots\\\\\n",
    "x_d\n",
    "\\end{pmatrix}\n",
    "= \\begin{pmatrix}\n",
    "1 & 0 & 0 & 0 & \\cdots & 0\\\\\n",
    "1 & 1 & 0 & 0 & \\cdots & 0\\\\\n",
    "1 & 0 & 1 & 0 & \\cdots & 0\\\\\n",
    "\\vdots & \\vdots & \\vdots & \\vdots & \\ddots & \\vdots \\\\\n",
    "1 & 0 & 0 & 0 & \\cdots & 1\n",
    "\\end{pmatrix}\n",
    "$$\n",
    "\n",
    "Since the points of $\\mathcal{X}_{d+1}$ are linearly independent, the matrix $X$ is non-singular. For each labeling $y = \\{\\pm 1\\}^{d+1}$ of $\\mathcal{X}_n$, the equation $Xw=y$ has a unique solution $w\\in \\mathbb{R}^{d+1}$. This shows that $\\mathcal{H}'$ shatters $\\mathcal{X}_{d+1}$. This completes the proof. \n"
   ]
  },
  {
   "cell_type": "markdown",
   "metadata": {},
   "source": []
  }
 ],
 "metadata": {
  "language_info": {
   "name": "python"
  }
 },
 "nbformat": 4,
 "nbformat_minor": 2
}
