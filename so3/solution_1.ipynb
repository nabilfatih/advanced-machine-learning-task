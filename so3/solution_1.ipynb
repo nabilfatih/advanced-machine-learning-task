{
 "cells": [
  {
   "cell_type": "markdown",
   "metadata": {},
   "source": [
    "### Exercise 1\n",
    "\n",
    "Let $x_1, \\ldots, x_n$ be i.i.d. random variables that follow a Bernoulli distribution with parameter $p = \\mathbb{P}(x_i = 1)$. Define $\\mu_n = (x_1 + \\cdots + x_n)/n$. For any $\\varepsilon > 0$, Hoeffding's inequality states\n",
    "\n",
    "$$\n",
    "\\mathbb{P}(|\\mu_n - p| \\geq \\varepsilon) \\leq 2\\exp(-2n\\varepsilon^2),\n",
    "$$\n",
    "\n",
    "Use Hoeffding's inequality to derive the inequality  \n",
    "\n",
    "$$\n",
    "\\mathbb{P}(S_n \\geq t) \\leq 2\\exp\\left(-2n\\left(\\frac{t}{n}-p\\right)^2\\right) \n",
    "$$\n",
    "\n",
    "for all $t > 0$, where $S_n = (x_1+\\cdots + x_n)$ is a random variable that follows the Binomial distribution $\\text{Binom}(n, p)$. "
   ]
  },
  {
   "cell_type": "markdown",
   "metadata": {},
   "source": [
    "---\n",
    "#### Solution \n",
    "\n",
    "Note that $\\mu_n = S_n/n$. We obtain\n",
    "\n",
    "$$\n",
    "\\mathbb{P}(S_n \\geq t) \n",
    "= \\mathbb{P}\\left(\\mu_n \\geq \\frac{t}{n}\\right).\n",
    "$$\n",
    "\n",
    "Set $t' = t/n$. Then from Exercise 2b of Sheet 2 follows\n",
    "\n",
    "$$\n",
    "\\mathbb{P}(\\mu_n \\geq t')\n",
    "\\leq \\mathbb{P}(|\\mu_n - p| \\geq t' - p). \n",
    "$$\n",
    "\n",
    "Let $\\varepsilon = t' - p$. Applying Hoeffding's inequality gives\n",
    "\n",
    "$$\n",
    "\\begin{align*}\n",
    "P(S_n \\geq t) \n",
    "&\\leq \\mathbb{P}(|\\mu_n - p| \\geq \\varepsilon) \\\\\n",
    "&\\leq 2\\exp(-2n\\varepsilon^2) \\\\\n",
    "&= 2\\exp\\left(-2n\\left(\\frac{t}{n}-p\\right)^2\\right).\n",
    "\\end{align*}\n",
    "$$\n",
    "\n",
    "This solves the exercise. "
   ]
  },
  {
   "cell_type": "markdown",
   "metadata": {},
   "source": []
  }
 ],
 "metadata": {
  "language_info": {
   "name": "python"
  }
 },
 "nbformat": 4,
 "nbformat_minor": 2
}
