{
 "cells": [
  {
   "cell_type": "markdown",
   "metadata": {},
   "source": [
    "### Exercise 2\n",
    "\n",
    "Suppose the annual rainfall in a region follows a normal distribution with a mean of $\\mu=800$ mm and a standard deviation of $\\sigma=100$ mm.\n",
    "\n",
    "Let $x$ be the random variable representing the annual rainfall in a randomly selected year. "
   ]
  },
  {
   "cell_type": "markdown",
   "metadata": {},
   "source": [
    "---\n",
    "**(a)** Estimate the probability that the annual rainfall in a randomly selected year will be at least $1,000$ mm."
   ]
  },
  {
   "cell_type": "markdown",
   "metadata": {},
   "source": [
    "**Solution:**\n",
    "\n",
    "To estimate the probability, we compute the Z-Score for $1,000$ mm as follows:\n",
    "\n",
    "$$\n",
    "Z = \\frac{x-\\mu}{\\sigma} = \\frac{1,000-800}{100}=2. \n",
    "$$\n",
    "\n",
    "You can look up this Z-score in the standard normal distribution table, or use a software to approximate the probability $\\mathbb{P}(Z\\geq 2)$: "
   ]
  },
  {
   "cell_type": "code",
   "execution_count": 2,
   "metadata": {},
   "outputs": [
    {
     "name": "stdout",
     "output_type": "stream",
     "text": [
      "P(Z >= 2): 0.0228\n"
     ]
    }
   ],
   "source": [
    "from scipy.stats import norm\n",
    "\n",
    "# Compute P(Z >= 2)\n",
    "p = 1 - norm.cdf(2)\n",
    "\n",
    "print(f'P(Z >= 2): {p:.4f}')"
   ]
  },
  {
   "cell_type": "markdown",
   "metadata": {},
   "source": [
    "The chance to observe an annual rainfall in the region of at least $1,000$ is approximately $2.3\\%$. "
   ]
  },
  {
   "cell_type": "markdown",
   "metadata": {},
   "source": [
    "---\n",
    "**(b)**\n",
    "Compute the bounds provided by Markov's and Chebyshev's inequality. \n",
    "\n",
    "**Markov's Inequality**\n",
    "\n",
    "We have \n",
    "\n",
    "$$\n",
    "\\mathbb{P}(x\\geq 1,000) \\leq \\frac{\\mu}{1000} = \\frac{800}{1,000} = 0.8.\n",
    "$$\n",
    "\n",
    "According to Markov’s inequality, the probability that the annual rainfall in a randomly selected year will exceed $1,000$ mm is at most $0.8$ or $80\\%$."
   ]
  },
  {
   "cell_type": "markdown",
   "metadata": {},
   "source": [
    "**Chebyshev's Inequality**\n",
    "\n",
    "To use Chebyshev’s inequality, we bound $\\mathbb{P}(|x - \\mu| \\geq t)$ instead of $\\mathbb{P}(x\\geq 1,000)$ and follow the line of argument of exercise 2b of sheet 2. The event $A = \\{x \\geq t\\}$ can be equivalently expressed by \n",
    "\n",
    "$$\n",
    "\\begin{align*}\n",
    "A \n",
    "&= \\{x \\geq t\\} \\\\\n",
    "&= \\{x - \\mu \\geq t - \\mu\\}\\\\\n",
    "&\\subseteq \\{x - \\mu \\geq t - \\mu\\} \\cup \\{x - \\mu \\leq -(t-\\mu)\\} \\\\\n",
    "&= \\{|x - \\mu| \\geq t - \\mu\\}\\\\\n",
    "&= B \n",
    "\\end{align*}\n",
    "$$ \n",
    "\n",
    "Thus, $A \\subseteq B$ implies $\\mathbb{P}(A) \\leq \\mathbb{P}(B)$. Applying Chebyshev's inequality to $\\mathbb{P}(B)$ gives\n",
    "$$\n",
    "\\begin{align*}\n",
    "\\mathbb{P}(x \\geq 1000) \n",
    "&\\leq \\mathbb{P}(|x - 800| \\geq 200)\\\\\n",
    "&\\leq \\frac{\\sigma^2}{200^2}\n",
    "= \\left(\\frac{100}{200}\\right)^2 \\\\\n",
    "&= 0.25.\n",
    "\\end{align*}\n",
    "$$\n",
    "\n",
    "According to Chebyshev's inequality, the probability that the annual rainfall in a randomly selected year will exceed $1,000$ mm is at most $0.25$ or $25\\%$."
   ]
  },
  {
   "cell_type": "markdown",
   "metadata": {},
   "source": [
    "---\n",
    "**(c)** Compute Chernoff's bound. For $s>0$, use \n",
    "\n",
    "$$\n",
    "\\begin{align*}\n",
    "\\mathbb{E}[\\exp(sx)] = \\exp\\left(s\\mu + \\frac{1}{2}s^2\\sigma^2\\right).\n",
    "\\end{align*}\n",
    "$$\n",
    "\n",
    "Chernoff's bound is\n",
    "\n",
    "$$\n",
    "\\begin{align*}\n",
    "\\mathbb{P}(x \\geq 1,000) \n",
    "&\\leq \\frac{\\mathbb{E}(\\exp(sx))}{\\exp(1,000s)}\\\\\n",
    "&= \\frac{\\exp(s\\mu + 0.5s^2\\sigma^2)}{\\exp(1,000s)}\\\\\n",
    "&= \\exp(s\\mu + 0.5s^2\\sigma^2- 1,000s)\n",
    "\\end{align*}\n",
    "$$\n",
    "\n",
    "The bound holds for all $s>0$. We choose $s$ to minimize the bound\n",
    "\n",
    "$$\n",
    "\\exp(s\\mu + 0.5s^2\\sigma^2 - 1,000s).\n",
    "$$\n",
    "\n",
    "This is equivalent to minimize the quadratic function\n",
    "\n",
    "$$\n",
    "\\begin{align*}\n",
    "g(s) \n",
    "&= s\\mu + 0.5s^2\\sigma^2- 1,000s \\\\\n",
    "&= 800s + 0.5\\cdot (100s)^2 - 1,000s \\\\\n",
    "&= 5,000s^2 -200s\n",
    "\\end{align*}\n",
    "$$\n",
    "\n",
    "Since $g$ is convex, we solve $g'(s) = 0$ for $s$:\n",
    "\n",
    "1. The derivative is $g'(s) = 10,000s - 200 = 0$.\n",
    "    \n",
    "2. Solving $g'(s)=0$ for $s$ gives $s=0.02$. \n",
    "\n",
    "Thus, the minimum is $g(s) = 5,000s^2 -200s = -2$ giving the bound\n",
    "\n",
    "$$\n",
    "\\mathbb{P}(x \\geq 1,000) \\leq \\exp(-2) < 0.14.\n",
    "$$\n",
    "\n",
    "According to Chernoff's bound, the probability that the annual rainfall in a randomly selected year will exceed $1,000$ mm is at most $0.14$ or $14\\%$."
   ]
  },
  {
   "cell_type": "markdown",
   "metadata": {},
   "source": [
    "---\n",
    "**(c)** Compute Chernoff's bound. For $s>0$, use \n",
    "\n",
    "$$\n",
    "\\begin{align*}\n",
    "\\mathbb{E}[\\exp(sx)] = \\exp\\left(s\\mu + \\frac{1}{2}s^2\\sigma^2\\right).\n",
    "\\end{align*}\n",
    "$$\n",
    "\n",
    "**Solution:**\n",
    "\n",
    "Chernoff's bound is\n",
    "\n",
    "$$\n",
    "\\begin{align*}\n",
    "\\mathbb{P}(x \\geq t) \n",
    "&\\leq \\frac{\\mathbb{E}[\\exp(sx)]}{\\exp(st)}\n",
    "= \\frac{\\exp(s\\mu + \\frac{1}{2}s^2\\sigma^2)}{\\exp(st)}\n",
    "= \\exp\\left(s\\mu + \\frac{1}{2}s^2\\sigma^2 - st\\right)\n",
    "\\end{align*}\n",
    "$$\n",
    "\n",
    "The bound holds for all $s>0$. We choose $s$ to minimize the bound\n",
    "\n",
    "$$\n",
    "\\exp\\left(\\frac{1}{2}s^2\\sigma^2 + (\\mu  - t)s\\right).\n",
    "$$\n",
    "\n",
    "This is equivalent to minimize the quadratic function\n",
    "\n",
    "$$\n",
    "g(s)=\\frac{1}{2}s^2\\sigma^2 + (\\mu  - t)s.\n",
    "$$\n",
    "\n",
    "Since $g$ is convex, we solve $g'(s) = 0$ for $s$. The derivative is \n",
    "\n",
    "$$\n",
    "g'(s) = s\\sigma^2 + \\mu - t.\n",
    "$$.\n",
    "    \n",
    "Solving $g'(s)=0$ for $s$ gives \n",
    "\n",
    "$$\n",
    "s_* = \\frac{t-\\mu}{\\sigma^2} = \\frac{1,000 - 800}{100^2} = 0.02.\n",
    "$$\n",
    "\n",
    "Then $g(s_*)$ is\n",
    "\n",
    "$$\n",
    "\\begin{align*}\n",
    "g(s_*) \n",
    "&= \\frac{1}{2}s_*^2\\sigma^2 + (\\mu  - t)s_*\\\\\n",
    "&= \\frac{1}{2} (0.02\\cdot 100)^2 -200 \\cdot 0.02\\\\\n",
    "&= 2 - 4 \\\\\n",
    "&= -2\n",
    "\\end{align*}\n",
    "$$\n",
    "\n",
    "Inserting $g(s_*) = -2$ into the above Chernoff's bound gives\n",
    "\n",
    "$$\n",
    "\\mathbb{P}(x \\geq t) \\leq \\exp(-2) < 0.14.\n",
    "$$\n",
    "\n",
    "According to Chernoff's bound, the probability that the annual rainfall in a randomly selected year will exceed $1,000$ mm is at most $0.14$ or $14\\%$."
   ]
  },
  {
   "cell_type": "markdown",
   "metadata": {},
   "source": [
    "**Comparison**\n",
    "\n",
    "+ Actual: 2.2 %\n",
    "+ Chernoff: 14 % \n",
    "+ Chebyshev: 25 %\n",
    "+ Markov: 80 %"
   ]
  }
 ],
 "metadata": {
  "kernelspec": {
   "display_name": "ml",
   "language": "python",
   "name": "python3"
  },
  "language_info": {
   "codemirror_mode": {
    "name": "ipython",
    "version": 3
   },
   "file_extension": ".py",
   "mimetype": "text/x-python",
   "name": "python",
   "nbconvert_exporter": "python",
   "pygments_lexer": "ipython3",
   "version": "3.11.5"
  }
 },
 "nbformat": 4,
 "nbformat_minor": 2
}
