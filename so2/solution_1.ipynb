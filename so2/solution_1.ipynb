{
 "cells": [
  {
   "cell_type": "markdown",
   "metadata": {},
   "source": [
    "### Exercise 1\n",
    "\n",
    "Prove the union bound using Markov's inequality."
   ]
  },
  {
   "cell_type": "markdown",
   "metadata": {},
   "source": [
    "**Proof.**\n",
    "\n",
    "Let $A_1, \\ldots, A_n$ be a finite set of events. Our goal is to find an upper bound for $\\mathbb{P}(A_1 \\cup \\cdots \\cup A_n)$. For this, we define an indicator random variable\n",
    "\n",
    "$$\n",
    "x_i = \\begin{cases}\n",
    "1 &:& A_i \\text{ occurs}\\\\\n",
    "0 &:& \\text{otherwise}\n",
    "\\end{cases}\n",
    "$$\n",
    "\n",
    "for each event $A_i$. Thus, $p_i = \\mathbb{P}(A_i)$ is the probability that event $A_i$ occurs. \n",
    "\n",
    "We can express the event $A_1 \\cup \\cdots \\cup A_n$ as $x_1 + \\cdots + x_n >= 1$. Applying Markov's inequality with $x = x_1 + \\cdots + x_n$ and $t = 1$ gives\n",
    "\n",
    "$$\n",
    "\\mathbb{P}(x \\geq 1) \\leq \\frac{\\mathbb{E}[x]}{1} = \\mathbb{E}[x]\n",
    "$$\n",
    "\n",
    "Note that \n",
    "\n",
    "$$\n",
    "\\begin{align*}\n",
    "\\mathbb{E}[x] &= \\mathbb{E}[x_1 +\\cdots + x_n]\\\\\n",
    "&= \\mathbb{E}[x_1] + \\cdots + \\mathbb{E}[x_n].\n",
    "\\end{align*}\n",
    "$$\n",
    "\n",
    "We have $\\mathbb{E}[x_i] = 1 \\cdot p_i + 0 \\cdot (1-p_i) = p_i = \\mathbb{P}(A_i)$. We obtain \n",
    "\n",
    "$$\n",
    "\\mathbb{E}[x] = \\mathbb{P}(A_1) + \\cdots + \\mathbb{P}(A_n).\n",
    "$$\n",
    "\n",
    "Combining the results, we obtain the union bound\n",
    "\n",
    "$$\n",
    "\\begin{align*}\n",
    "\\mathbb{P}(A_1 \\cup \\cdots \\cup A_n) \n",
    "&= \\mathbb{P}(x \\geq 1) \\\\\n",
    "&\\leq \\mathbb{E}[x] \\\\\n",
    "&= \\mathbb{P}(A_1) + \\cdots + \\mathbb{P}(A_n).\n",
    "\\end{align*}\n",
    "$$"
   ]
  },
  {
   "cell_type": "markdown",
   "metadata": {},
   "source": []
  }
 ],
 "metadata": {
  "language_info": {
   "name": "python"
  }
 },
 "nbformat": 4,
 "nbformat_minor": 2
}
