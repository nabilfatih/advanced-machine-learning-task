{
 "cells": [
  {
   "cell_type": "markdown",
   "metadata": {},
   "source": [
    "### Exercise\n",
    "\n",
    "In this exercise, we examine the VC generalization bound for the hypothesis class of linear classifiers. The bound is given by:\n",
    "$$\n",
    "R(f) \\leq R_n(f) + \\sqrt{\\frac{8}{n}\\left(d\\cdot\\ln\\left(\\frac{2en}{d}\\right)+\\ln\\left(\\frac{4}{\\delta}\\right)\\right)} = R_n(f) + \\varepsilon.\n",
    "$$\n",
    "Refer to page 19 of `vl06` for more details. The square root term on the right-hand side is referred to as the **error bound** $\\varepsilon$.\n",
    "\n",
    "\n",
    "**(a)**\n",
    "Construct a binary classification problem with a large ground truth dataset to determine the true risk of a linear classifier and to sample training sets of varying sizes $n$.\n",
    "\n",
    "**(b)**\n",
    "Specify a sequence of training set sizes $n_1 < n_2 < \\cdots < n_k$. For each training set size $n$:\n",
    "- Calculate the error bound $\\varepsilon$ for $\\delta = 0.05$. \n",
    "- Conduct the following experiment $T$ times for each $n$:\n",
    "  1. Draw a training set of size $n$.\n",
    "  2. Fit a logistic regression model to the training data.\n",
    "  3. Determine the empirical and true risk of the learned model.\n",
    "\n",
    "**(c)**\n",
    "Plot the average true risk, empirical risk, and the VC generalization bound as a function of the training set size $n$. \n",
    "\n",
    "**(d)**\n",
    "Let $\\varepsilon = \\delta = 0.05$. Compute the theoretical sample complexity to ensure $R(f) \\leq R_n(f) + \\varepsilon$ with confidence $1-\\delta$. \n",
    "\n",
    "**(e)**\n",
    "Plot the estimated probability $\\mathbb{P}(R(f) \\leq R_n(f) + \\varepsilon)$ as a function of $n$. Determine the empirical sample complexity to ensure $R(f) \\leq R_n(f) + \\varepsilon$ with confidence $1-\\delta$. Compare the theoretical and empirical sample complexity."
   ]
  },
  {
   "cell_type": "markdown",
   "metadata": {},
   "source": [
    "---\n",
    "### Imports"
   ]
  },
  {
   "cell_type": "code",
   "execution_count": 1,
   "metadata": {},
   "outputs": [],
   "source": [
    "import numpy as np\n",
    "from sklearn.datasets import make_blobs\n",
    "from sklearn.model_selection import train_test_split\n",
    "from sklearn.linear_model import LogisticRegression\n",
    "import matplotlib.pyplot as plt"
   ]
  },
  {
   "cell_type": "markdown",
   "metadata": {},
   "source": [
    "---\n",
    "### Functions"
   ]
  },
  {
   "cell_type": "code",
   "execution_count": 3,
   "metadata": {},
   "outputs": [],
   "source": [
    "# Returns random training set of size n\n",
    "def sample(n):\n",
    "    X_tr,_,y_tr,_ = train_test_split(X, y, train_size=n, stratify=y)\n",
    "    return X_tr, y_tr\n",
    "\n",
    "# Returns error bound eps\n",
    "def error_bound(vcdim, n, delta):\n",
    "    eps = vcdim * np.log(2 * np.e * n / vcdim)\n",
    "    eps += np.log(4 / delta)\n",
    "    eps *= 8 / n \n",
    "    return eps\n",
    "\n",
    "# Returns size n of training examples required to ensure \n",
    "# \n",
    "#   R(f) <= Rn(f) + eps\n",
    "# \n",
    "# with confidence 1−delta. The size n is computed by iterative approximation \n",
    "# with initial value n0. \n",
    "def sample_size(n0, vcdim, eps, delta):\n",
    "    precision = 0.1\n",
    "    n = n0\n",
    "    n_previous = 0\n",
    "    a = 8/eps**2 \n",
    "    b = np.log(4/delta)\n",
    "    while precision < abs(n - n_previous):\n",
    "        n_previous = n\n",
    "        n = a * (b + vcdim * np.log(2*np.e*n/vcdim))\n",
    "    return np.ceil(n)\n",
    "\n",
    "\n",
    "# Runs experiment. Returns\n",
    "#   Rn  empirical risk\n",
    "#   R   true risk\n",
    "#   E   error bound\n",
    "#   P   estimates of P(R(f) <= Rn(f) + E)\n",
    "def run(n_samples, n_trials, eps):\n",
    "    k = len(n_samples)\n",
    "    Rn = np.zeros((k, n_trials))    # empirical risk\n",
    "    R = np.zeros((k, n_trials))     # true risk\n",
    "    E = np.zeros(k)                 # error bound\n",
    "    \n",
    "    clf = LogisticRegression()\n",
    "    for i, n in enumerate(n_samples):\n",
    "        E[i] = error_bound(VCDIM, n, DELTA)\n",
    "        for j in range(n_trials):\n",
    "            X_train, y_train = sample(n)\n",
    "            clf = clf.fit(X_train, y_train)\n",
    "            Rn[i,j] = 1.-clf.score(X_train, y_train)\n",
    "            R[i,j] = 1.-clf.score(X, y)\n",
    "    P = (R < Rn + eps).mean(axis=1) # P(R(f) < Rn(f) + eps)\n",
    "    return Rn, R, E, P"
   ]
  },
  {
   "cell_type": "markdown",
   "metadata": {},
   "source": [
    "---\n",
    "### Ground Truth Data"
   ]
  },
  {
   "cell_type": "code",
   "execution_count": 2,
   "metadata": {},
   "outputs": [],
   "source": [
    "N = int(1E6)\n",
    "MU = np.array([[0, 0], [1, 1]])\n",
    "X, y = make_blobs(n_samples=N, centers=MU,cluster_std=0.5)"
   ]
  },
  {
   "cell_type": "markdown",
   "metadata": {},
   "source": [
    "---\n",
    "### Experiment"
   ]
  },
  {
   "cell_type": "code",
   "execution_count": 4,
   "metadata": {},
   "outputs": [],
   "source": [
    "VCDIM = 3\n",
    "DELTA = 0.05\n",
    "EPS = 0.05\n",
    "N_TRIALS = 100\n",
    "N_SAMPLES = np.arange(10, 101, 10)"
   ]
  },
  {
   "cell_type": "markdown",
   "metadata": {},
   "source": [
    "##### Empirical Results"
   ]
  },
  {
   "cell_type": "code",
   "execution_count": 6,
   "metadata": {},
   "outputs": [],
   "source": [
    "Rn, R, E, P = run(N_SAMPLES, N_TRIALS, EPS)"
   ]
  },
  {
   "cell_type": "markdown",
   "metadata": {},
   "source": [
    "##### VC Generalization Bound\n",
    "\n",
    "We show the average generalization bound, empirical mean, and true mean as a function of the size $n$ of the training set. The three quantities are averaged over N_TRIALS runs."
   ]
  },
  {
   "cell_type": "code",
   "execution_count": 9,
   "metadata": {},
   "outputs": [
    {
     "data": {
      "image/png": "[encoded data removed]",
      "text/plain": [
       "<Figure size 640x480 with 1 Axes>"
      ]
     },
     "metadata": {},
     "output_type": "display_data"
    }
   ],
   "source": [
    "plt.semilogy(N_SAMPLES, E + Rn.mean(axis=1), label='bound')\n",
    "plt.semilogy(N_SAMPLES, Rn.mean(axis=1), label='Rn(f)')\n",
    "plt.semilogy(N_SAMPLES, R.mean(axis=1), label='R(f)')\n",
    "plt.legend()\n",
    "plt.show()\n"
   ]
  },
  {
   "cell_type": "markdown",
   "metadata": {},
   "source": [
    "##### Theoretical Sample Complexity\n",
    "\n",
    "We approximate the smallest $n$ to ensure \n",
    "\n",
    "$$\n",
    "R(f) \\leq R_n(f) + \\varepsilon\n",
    "$$\n",
    "\n",
    "with confidence $1-\\delta$ for a hypothesis class $\\mathcal{H}$ with $\\dim_{VC}(\\mathcal{H})=$ VCDIM. "
   ]
  },
  {
   "cell_type": "code",
   "execution_count": 5,
   "metadata": {},
   "outputs": [
    {
     "name": "stdout",
     "output_type": "stream",
     "text": [
      "n >=  132992.0\n"
     ]
    }
   ],
   "source": [
    "n_tsc = sample_size(1000, VCDIM, EPS, DELTA)\n",
    "print(\"n >= \", n_tsc)"
   ]
  },
  {
   "cell_type": "markdown",
   "metadata": {},
   "source": [
    "##### Empirical Sample Complexity\n",
    "\n",
    "We determine the minimum size $n$ for which the estimated probability satisfies\n",
    "\n",
    "$$\n",
    "\\mathbb{P}(R(f) \\leq R_n(f) + \\varepsilon) \\geq 1-\\delta\n",
    "$$"
   ]
  },
  {
   "cell_type": "code",
   "execution_count": 7,
   "metadata": {},
   "outputs": [
    {
     "name": "stdout",
     "output_type": "stream",
     "text": [
      "n >= 90\n"
     ]
    }
   ],
   "source": [
    "i0 = np.argmax(P >= 1-DELTA)\n",
    "n_esc = N_SAMPLES[i0]\n",
    "print(f'n >= {n_esc:d}')"
   ]
  },
  {
   "cell_type": "markdown",
   "metadata": {},
   "source": [
    "Observe that the theoretical sample complexity is $n_{tsc} = 132992$, while the empirical sample complexity is $n_{esc} \\approx 90$. \n",
    "\n",
    "\n",
    "##### Estimated Probabilities\n",
    "The next plot shows the estimated probability \n",
    "\n",
    "$$\n",
    "\\mathbb{P}(R(f) \\leq R_n(f) + \\varepsilon) \n",
    "$$\n",
    "\n",
    "as a function of the size $n$ of the training set."
   ]
  },
  {
   "cell_type": "code",
   "execution_count": 8,
   "metadata": {},
   "outputs": [
    {
     "data": {
      "image/png": "[encoded data removed]",
      "text/plain": [
       "<Figure size 640x480 with 1 Axes>"
      ]
     },
     "metadata": {},
     "output_type": "display_data"
    }
   ],
   "source": [
    "plt.plot(N_SAMPLES, P, label='$P(R(f)) < R_n(f) + \\epsilon$')\n",
    "c = np.ones_like(N_SAMPLES)-DELTA\n",
    "plt.plot(N_SAMPLES, c, '--', label='$1-\\delta$')\n",
    "plt.xlabel('$n$')\n",
    "plt.legend()\n",
    "plt.show()"
   ]
  }
 ],
 "metadata": {
  "kernelspec": {
   "display_name": "ml",
   "language": "python",
   "name": "python3"
  },
  "language_info": {
   "codemirror_mode": {
    "name": "ipython",
    "version": 3
   },
   "file_extension": ".py",
   "mimetype": "text/x-python",
   "name": "python",
   "nbconvert_exporter": "python",
   "pygments_lexer": "ipython3",
   "version": "3.11.5"
  }
 },
 "nbformat": 4,
 "nbformat_minor": 2
}
