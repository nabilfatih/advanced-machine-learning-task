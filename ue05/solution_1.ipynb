{
 "cells": [
  {
   "cell_type": "markdown",
   "metadata": {},
   "source": [
    "### Exercise 1\n",
    "\n",
    "Let $\\mathcal{X}\\times\\mathcal{Y}$ be the input-output space with $\\mathcal{Y}=\\{\\pm 1\\}$. Suppose that \n",
    "\n",
    "$$\n",
    "P(y=-1) = P(y=+1)=0.5.\n",
    "$$ \n",
    "\n",
    "Let $\\mathcal{F}$ consists of all (measurable) functions $f:\\mathcal{X} \\to \\{\\pm 1\\}$. Let $\\mathbb{S}$ be the set of all finite training sets. Consider the hypothesis class \n",
    "$\\mathcal{H} = \\{f_{\\mathcal{S}} \\in \\mathcal{F}\\,:\\,\\mathcal{S}\\in \\mathbb{S}\\}$, where \n",
    "\n",
    "$$\n",
    "f_{\\mathcal{S}}(x) = \\begin{cases}\n",
    "y & (x, y)\\in \\mathcal{S}\\\\\n",
    "1 & \\text{otherwise}\n",
    "\\end{cases}.\n",
    "$$\n",
    "\n",
    "Show that $\\mathcal{H}$ is not uniformly convergent. "
   ]
  },
  {
   "cell_type": "markdown",
   "metadata": {},
   "source": [
    "---\n",
    "**Solution:**\n",
    "\n",
    "A hypothesis class $\\mathcal{H}$ is uniformly convergent, if\n",
    "\n",
    "$$\n",
    "\\lim_{n\\to\\infty} \\mathbb{P}\\left(\\sup_{f\\in \\mathcal{H}}|R_n(f)-R(f)|>\\varepsilon\\right)=0\n",
    "$$\n",
    "\n",
    "for all $\\varepsilon > 0$.\n",
    "\n",
    "Let $(\\mathcal{S}_n)_{n \\in \\mathbb{N}}$ be a sequence of training sets $\\mathcal{S}_n \\in \\mathbb{S}$ drawn i.i.d. (the $\\mathcal{S}_n$ are drawn independently). \n",
    "\n",
    "For each training set $\\mathcal{S}_n$ there is a $f_n \\in \\mathcal{H}$ with $R_n(f_n)=0$ and $R(f_n)=0.5$. Thus, we have\n",
    "\n",
    "$$\n",
    "0.5 = |R_n(f_n)-R(f_n)| \\leq \\sup_{f\\in \\mathcal{H}} |R_n(f)-R(f)|.\n",
    "$$\n",
    "\n",
    "For any $\\varepsilon < 0.5$, we have\n",
    "\n",
    "$$\n",
    "\\mathbb{P}\\left(\\sup_{f\\in \\mathcal{H}}|R_n(f)-R(f)|>\\varepsilon\\right)\n",
    "\\geq \\mathbb{P}\\left(|R_n(f_n)-R(f_n)|>\\varepsilon\\right)\n",
    "= \\mathbb{P}(0.5 > \\varepsilon) = 1.\n",
    "$$\n",
    "\n",
    "This shows that $\\mathcal{H}$ is not uniformly convergent. "
   ]
  },
  {
   "cell_type": "markdown",
   "metadata": {},
   "source": []
  }
 ],
 "metadata": {
  "language_info": {
   "name": "python"
  }
 },
 "nbformat": 4,
 "nbformat_minor": 2
}
