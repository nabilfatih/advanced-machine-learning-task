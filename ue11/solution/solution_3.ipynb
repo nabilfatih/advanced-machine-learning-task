{
 "cells": [
  {
   "cell_type": "markdown",
   "metadata": {},
   "source": [
    "### Exercise 3: \n",
    "\n",
    "Compare the performance of the following algorihtms on the Heart Failure Prediction Dataset (`heart.csv`):\n",
    "\n",
    "+ Logistic Regression\n",
    "+ k-Nearest-Neighbor Classifier\n",
    "+ Decision Tree Classifier\n",
    "+ SVM\n",
    "+ Gradient Boosting\n",
    "+ AdaBoost\n",
    "\n",
    "Optimize the parameters of each algorithm. Use a holdout-validation as test protocol with split size 0.2 for the test set. \n",
    "\n",
    "Details on the dataset: [[>]](https://www.kaggle.com/datasets/fedesoriano/heart-failure-prediction)"
   ]
  },
  {
   "cell_type": "markdown",
   "metadata": {},
   "source": [
    "---\n",
    "### Imports"
   ]
  },
  {
   "cell_type": "code",
   "execution_count": 1,
   "metadata": {},
   "outputs": [],
   "source": [
    "import numpy as np\n",
    "from sklearn.ensemble import GradientBoostingClassifier\n",
    "from sklearn.ensemble import AdaBoostClassifier\n",
    "from sklearn.tree import DecisionTreeClassifier\n",
    "from sklearn.linear_model import LogisticRegression\n",
    "from sklearn.neighbors import KNeighborsClassifier\n",
    "from sklearn.svm import SVC\n",
    "from sklearn.preprocessing import StandardScaler\n",
    "from sklearn.model_selection import train_test_split\n",
    "from sklearn.model_selection import GridSearchCV\n",
    "import pandas as pd"
   ]
  },
  {
   "cell_type": "markdown",
   "metadata": {},
   "source": [
    "---\n",
    "### Dataset"
   ]
  },
  {
   "cell_type": "code",
   "execution_count": 2,
   "metadata": {},
   "outputs": [
    {
     "name": "stdout",
     "output_type": "stream",
     "text": [
      "<class 'pandas.core.frame.DataFrame'>\n",
      "RangeIndex: 303 entries, 0 to 302\n",
      "Data columns (total 14 columns):\n",
      " #   Column    Non-Null Count  Dtype  \n",
      "---  ------    --------------  -----  \n",
      " 0   age       303 non-null    int64  \n",
      " 1   sex       303 non-null    int64  \n",
      " 2   cp        303 non-null    int64  \n",
      " 3   trtbps    303 non-null    int64  \n",
      " 4   chol      303 non-null    int64  \n",
      " 5   fbs       303 non-null    int64  \n",
      " 6   restecg   303 non-null    int64  \n",
      " 7   thalachh  303 non-null    int64  \n",
      " 8   exng      303 non-null    int64  \n",
      " 9   oldpeak   303 non-null    float64\n",
      " 10  slp       303 non-null    int64  \n",
      " 11  caa       303 non-null    int64  \n",
      " 12  thall     303 non-null    int64  \n",
      " 13  output    303 non-null    int64  \n",
      "dtypes: float64(1), int64(13)\n",
      "memory usage: 33.3 KB\n",
      "None\n"
     ]
    }
   ],
   "source": [
    "df = pd.read_csv('./data/heart.csv', sep=',')\n",
    "print(df.info())"
   ]
  },
  {
   "cell_type": "code",
   "execution_count": 3,
   "metadata": {},
   "outputs": [],
   "source": [
    "X = df.iloc[:, :-1].values\n",
    "y = df.iloc[:, -1].values\n",
    "\n",
    "X_train, X_test, y_train, y_test = train_test_split(X, y, test_size=0.2)\n",
    "\n",
    "sc = StandardScaler()\n",
    "sc.fit(X_train)\n",
    "X_train_scaled = sc.transform(X_train)\n",
    "X_test_scaled = sc.transform(X_test)"
   ]
  },
  {
   "cell_type": "markdown",
   "metadata": {},
   "source": [
    "---\n",
    "### Parameter Optimization and Holdout-Validation"
   ]
  },
  {
   "cell_type": "code",
   "execution_count": 4,
   "metadata": {},
   "outputs": [],
   "source": [
    "def run(clf, param_grid, X_train, y_train, X_test, y_test):\n",
    "\n",
    "    if param_grid: \n",
    "        grid_search = GridSearchCV(clf, param_grid=param_grid)\n",
    "        grid_search.fit(X_train, y_train)\n",
    "        clf.set_params(**grid_search.best_params_)\n",
    "\n",
    "    clf.fit(X_train, y_train)\n",
    "    train_acc = 100. * clf.score(X_train, y_train)\n",
    "    test_acc  = 100. * clf.score(X_test, y_test)\n",
    "    print(f'train accuracy : {train_acc:.2f}%')\n",
    "    print(f'test accuracy  : {test_acc:.2f}%')"
   ]
  },
  {
   "cell_type": "markdown",
   "metadata": {},
   "source": [
    "---\n",
    "### Logistic Regression"
   ]
  },
  {
   "cell_type": "code",
   "execution_count": 5,
   "metadata": {},
   "outputs": [
    {
     "name": "stdout",
     "output_type": "stream",
     "text": [
      "train accuracy : 85.12%\n",
      "test accuracy  : 80.33%\n"
     ]
    }
   ],
   "source": [
    "run(LogisticRegression(), None, X_train_scaled, y_train, X_test_scaled, y_test)"
   ]
  },
  {
   "cell_type": "markdown",
   "metadata": {},
   "source": [
    "---\n",
    "### k-Nearest-Neighbor Classifier"
   ]
  },
  {
   "cell_type": "code",
   "execution_count": 6,
   "metadata": {},
   "outputs": [
    {
     "name": "stdout",
     "output_type": "stream",
     "text": [
      "train accuracy : 84.71%\n",
      "test accuracy  : 81.97%\n"
     ]
    }
   ],
   "source": [
    "max_k = max(1, int(np.sqrt(len(y_train))))\n",
    "param_grid = {\n",
    "    'n_neighbors' : np.arange(1, max_k),\n",
    "    'weights' : ['uniform', 'distance']\n",
    "}\n",
    "run(KNeighborsClassifier(), \n",
    "    param_grid, \n",
    "    X_train_scaled, y_train, \n",
    "    X_test_scaled, y_test)"
   ]
  },
  {
   "cell_type": "markdown",
   "metadata": {},
   "source": [
    "---\n",
    "### Decision Tree"
   ]
  },
  {
   "cell_type": "code",
   "execution_count": 7,
   "metadata": {},
   "outputs": [
    {
     "name": "stdout",
     "output_type": "stream",
     "text": [
      "train accuracy : 85.95%\n",
      "test accuracy  : 78.69%\n"
     ]
    }
   ],
   "source": [
    "param_grid = {\n",
    "    \"max_depth\": np.arange(1, 20)\n",
    "}\n",
    "run(DecisionTreeClassifier(), param_grid, X_train, y_train, X_test, y_test)"
   ]
  },
  {
   "cell_type": "markdown",
   "metadata": {},
   "source": [
    "---\n",
    "### SVM"
   ]
  },
  {
   "cell_type": "code",
   "execution_count": 8,
   "metadata": {},
   "outputs": [
    {
     "name": "stdout",
     "output_type": "stream",
     "text": [
      "train accuracy : 86.36%\n",
      "test accuracy  : 78.69%\n"
     ]
    }
   ],
   "source": [
    "param_grid = {\n",
    "    'gamma':2.**np.arange(-14, 4), \n",
    "    'C': 2.**np.arange(-4, 14)\n",
    "}\n",
    "run(SVC(), param_grid, X_train, y_train, X_test, y_test)"
   ]
  },
  {
   "cell_type": "markdown",
   "metadata": {},
   "source": [
    "---\n",
    "### Gradient Boosting"
   ]
  },
  {
   "cell_type": "code",
   "execution_count": 9,
   "metadata": {},
   "outputs": [
    {
     "name": "stdout",
     "output_type": "stream",
     "text": [
      "train accuracy : 86.36%\n",
      "test accuracy  : 83.61%\n"
     ]
    }
   ],
   "source": [
    "params = {\n",
    "    'n_estimators' : 300,\n",
    "    'loss' : 'exponential',\n",
    "    'criterion' : 'squared_error',\n",
    "}\n",
    "\n",
    "param_grid = {\n",
    "    \"max_depth\": np.arange(1, 6),\n",
    "    \"learning_rate\": 2.**np.arange(-10, 1)\n",
    "}\n",
    "\n",
    "clf = GradientBoostingClassifier(**params)\n",
    "run(clf, param_grid, X_train, y_train, X_test, y_test)"
   ]
  },
  {
   "cell_type": "markdown",
   "metadata": {},
   "source": [
    "---\n",
    "### AdaBoost"
   ]
  },
  {
   "cell_type": "code",
   "execution_count": 10,
   "metadata": {},
   "outputs": [
    {
     "name": "stdout",
     "output_type": "stream",
     "text": [
      "train accuracy : 86.36%\n",
      "test accuracy  : 83.61%\n"
     ]
    }
   ],
   "source": [
    "baselearner = [DecisionTreeClassifier(max_depth=depth) for depth in range(1, 6)]\n",
    "param_grid = {\n",
    "    \"estimator\": baselearner,\n",
    "    \"learning_rate\": 2.**np.arange(-10, 1)\n",
    "}\n",
    "\n",
    "clf = AdaBoostClassifier(n_estimators=300)\n",
    "run(clf, param_grid, X_train, y_train, X_test, y_test)"
   ]
  }
 ],
 "metadata": {
  "kernelspec": {
   "display_name": "ml",
   "language": "python",
   "name": "python3"
  },
  "language_info": {
   "codemirror_mode": {
    "name": "ipython",
    "version": 3
   },
   "file_extension": ".py",
   "mimetype": "text/x-python",
   "name": "python",
   "nbconvert_exporter": "python",
   "pygments_lexer": "ipython3",
   "version": "3.11.5"
  }
 },
 "nbformat": 4,
 "nbformat_minor": 2
}
