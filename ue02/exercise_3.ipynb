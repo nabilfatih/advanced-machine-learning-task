{
 "cells": [
  {
   "cell_type": "markdown",
   "metadata": {},
   "source": [
    "### Exercise 3"
   ]
  },
  {
   "cell_type": "code",
   "execution_count": 1,
   "metadata": {},
   "outputs": [],
   "source": [
    "import numpy as np\n",
    "from sklearn.datasets import make_blobs"
   ]
  },
  {
   "cell_type": "markdown",
   "metadata": {},
   "source": [
    "---\n",
    "### Large Dataset Generation\n",
    "Generate a large set `X, y` of input-output examples as ground-truth population for two purposes: \n",
    "\n",
    "1. **Risk and variance computation:** Use `X, y` to compute the true risk $R(f)$ of a classifier $f$ and the variance $\\mathbb{V}[x]$, where $x$ is the binary random variable with \n",
    "\n",
    "$$\n",
    "x = \\begin{cases}\n",
    "1 &:& f(x) \\neq y\\\\\n",
    "0 &:& \\text{otherwise}\n",
    "\\end{cases}\n",
    "$$\n",
    "\n",
    "2. **Sampling:** Sample training and test sets from `X, y`."
   ]
  },
  {
   "cell_type": "code",
   "execution_count": 8,
   "metadata": {},
   "outputs": [],
   "source": [
    "# size of population\n",
    "N = int(1e5)\n",
    "\n",
    "centers = ((1, 1), (-1, 1), (-1, -1), (1, -1))\n",
    "X, y = make_blobs(N, centers=centers, cluster_std=.5)\n",
    "y[y==2], y[y==3] = 0, 1"
   ]
  }
 ],
 "metadata": {
  "kernelspec": {
   "display_name": "ml",
   "language": "python",
   "name": "python3"
  },
  "language_info": {
   "codemirror_mode": {
    "name": "ipython",
    "version": 3
   },
   "file_extension": ".py",
   "mimetype": "text/x-python",
   "name": "python",
   "nbconvert_exporter": "python",
   "pygments_lexer": "ipython3",
   "version": "3.11.5"
  }
 },
 "nbformat": 4,
 "nbformat_minor": 2
}
