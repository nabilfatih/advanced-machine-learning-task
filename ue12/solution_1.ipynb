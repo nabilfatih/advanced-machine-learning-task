{
 "cells": [
  {
   "cell_type": "markdown",
   "metadata": {},
   "source": [
    "### Exercise 1\n",
    "\n",
    "Derive the recursive formulation \n",
    "\n",
    "$$\n",
    "Q(s, a) = \\rho(s, a) + \\gamma \\max_{a'\\in \\mathcal{A}} Q(\\delta(s, a), a').\n",
    "$$"
   ]
  },
  {
   "cell_type": "markdown",
   "metadata": {},
   "source": [
    "**Solution:**\n",
    "\n",
    "The Q-function is defined as \n",
    "\n",
    "$$\n",
    "Q(s, a) = \\rho(s, a) + \\gamma V^*(\\delta(s, a)).\n",
    "\\tag{1}\n",
    "$$\n",
    "\n",
    "Note that\n",
    "\n",
    "$$\n",
    "\\begin{align*}\n",
    "V^*(s_t) \n",
    "&= r_{t+1} + \\gamma r_{t+2} + \\gamma^2 r_{t+3} + \\cdots \\\\\n",
    "&= r_{t+1} + \\gamma\\left(r_{t+2} + \\gamma r_{t+3} + \\gamma^2 r_{t+4}\\cdots\\right)\\\\\n",
    "&= r_{t+1} + \\gamma V^*(s_{t+1}) \\\\\n",
    "&= \\rho(s_t, a_t) + \\gamma V^*(\\delta(s_t, a_t)),\n",
    "\\end{align*}\n",
    "$$\n",
    "\n",
    "where $a_t = \\pi^*(s_t)$ is the optimal action in state $s_t$. Thus, we have\n",
    "\n",
    "$$\n",
    "V^*(s) \n",
    "= \\max_{a \\in \\mathcal{A}} \\rho(s, a) + \\gamma V^*(\\delta(s, a))\n",
    "= \\max_{a \\in \\mathcal{A}} Q(s, a). \\tag{2}\n",
    "$$\n",
    "\n",
    "Substituting the right hand side of Equation (2) into $V^*(s)$ of Equation (1) yields the assertion. "
   ]
  },
  {
   "cell_type": "markdown",
   "metadata": {},
   "source": []
  },
  {
   "cell_type": "markdown",
   "metadata": {},
   "source": []
  }
 ],
 "metadata": {
  "language_info": {
   "name": "python"
  }
 },
 "nbformat": 4,
 "nbformat_minor": 2
}
